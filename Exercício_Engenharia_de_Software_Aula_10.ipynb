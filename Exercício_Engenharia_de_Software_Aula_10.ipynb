{
  "nbformat": 4,
  "nbformat_minor": 0,
  "metadata": {
    "colab": {
      "provenance": [],
      "collapsed_sections": [
        "_4nGlY-EK83B",
        "qEIC3DiuSuNd"
      ],
      "include_colab_link": true
    },
    "kernelspec": {
      "name": "python3",
      "display_name": "Python 3"
    },
    "language_info": {
      "name": "python"
    }
  },
  "cells": [
    {
      "cell_type": "markdown",
      "metadata": {
        "id": "view-in-github",
        "colab_type": "text"
      },
      "source": [
        "<a href=\"https://colab.research.google.com/github/DevSolto/ADS-DataScience/blob/main/Exerc%C3%ADcio_Engenharia_de_Software_Aula_10.ipynb\" target=\"_parent\"><img src=\"https://colab.research.google.com/assets/colab-badge.svg\" alt=\"Open In Colab\"/></a>"
      ]
    },
    {
      "cell_type": "markdown",
      "source": [
        "A classe a seguir foi implementada em Python.\n",
        "\n",
        "Esta classe armazenará os alunos e suas notas. Essa primeira versão da classe, no entanto, possui alguns problemas de design que violam os conceitos de boas práticas."
      ],
      "metadata": {
        "id": "ikKU4i3i7xx2"
      }
    },
    {
      "cell_type": "code",
      "execution_count": null,
      "metadata": {
        "id": "5oQJRUA-7eAV"
      },
      "outputs": [],
      "source": [
        "class Turma:\n",
        "    def __init__(self):\n",
        "        self.alunos = {}\n",
        "\n",
        "    def adicionar_aluno(self, nome, nota):\n",
        "        self.alunos[nome] = nota\n",
        "\n",
        "    def obter_nota(self, nome):\n",
        "        return self.alunos.get(nome, \"Aluno não encontrado\")\n",
        "\n",
        "    def media_notas(self):\n",
        "        if not self.alunos:\n",
        "            return 0\n",
        "        total = sum(self.alunos.values())\n",
        "        return total / len(self.alunos)\n",
        "\n",
        "    def alunos_acima_da_media(self):\n",
        "        media = self.media_notas()\n",
        "        return [nome for nome, nota in self.alunos.items() if nota > media]\n"
      ]
    },
    {
      "cell_type": "markdown",
      "source": [
        "## Aplicando o princípio da responsabilidade única, temos:"
      ],
      "metadata": {
        "id": "_4nGlY-EK83B"
      }
    },
    {
      "cell_type": "code",
      "source": [
        "# complete o código a seguir\n",
        "class Turma:\n",
        "    def __init__(self):\n",
        "        self.alunos = {}\n",
        "\n",
        "    def adicionarAluno(self, nome):\n",
        "        if nome not in self.alunos:\n",
        "            self.alunos[nome] = None\n",
        "        else:\n",
        "            print(f\"Aluno {nome} já está na turma.\")\n",
        "\n",
        "    def adicionarNota(self, nome, nota):\n",
        "        if nome in self.alunos:\n",
        "            self.alunos[nome] = nota\n",
        "        else:\n",
        "            print(f\"Aluno {nome} não encontrado. Adicione o aluno primeiro.\")\n",
        "\n",
        "    def obterNota(self, nome):\n",
        "        return self.alunos.get(nome, \"Aluno não encontrado\")\n",
        "\n",
        "    def mediaNotas(self):\n",
        "        if not self.alunos:\n",
        "            return 0\n",
        "        total = sum(self.alunos.values())\n",
        "        return total / len(self.alunos)\n",
        "\n",
        "    def listarAlunos(self):\n",
        "        return self.alunos\n",
        "\n",
        "\n",
        "class EstatisticasDaTurma:\n",
        "    def __init__(self, turma):\n",
        "        self.turma = turma\n",
        "\n",
        "    def calcularMediaTurma(self):\n",
        "        total = 0\n",
        "        count = 0\n",
        "        for nome, nota in self.turma.listarAlunos().items():\n",
        "            if nota is not None:\n",
        "                total+=nota\n",
        "                count+=1\n",
        "        if count == 0:\n",
        "            return 0\n",
        "        return total/count\n",
        "\n",
        "    def alunosAcimaDaMediaTurma(self):\n",
        "        media = self.calcularMediaTurma()\n",
        "        alunosAcima = []\n",
        "        for nome, nota in self.turma.listarAlunos().items():\n",
        "            if nota is not None and nota > media:\n",
        "                alunosAcima.append(nome)\n",
        "        return alunosAcima\n"
      ],
      "metadata": {
        "id": "xfA0omsS8ufe"
      },
      "execution_count": 10,
      "outputs": []
    },
    {
      "cell_type": "markdown",
      "source": [
        "Usando uma classe!"
      ],
      "metadata": {
        "id": "qA1guhmYOBCM"
      }
    },
    {
      "cell_type": "code",
      "source": [
        "turma = Turma()\n",
        "turma.adicionarAluno(\"Alice\")\n",
        "turma.adicionarAluno(\"Bob\")\n",
        "turma.adicionarAluno(\"Charlie\")\n",
        "turma.adicionarNota(\"Alice\", 85)\n",
        "turma.adicionarNota(\"Bob\", 92)\n",
        "turma.adicionarNota(\"Charlie\", 78)\n",
        "\n",
        "print(turma.listarAlunos())\n",
        "print(turma.obterNota(\"Alice\"))\n",
        "print(turma.mediaNotas())\n",
        "\n",
        "estatisticas = EstatisticasDaTurma(turma)\n",
        "\n",
        "print(estatisticas.alunosAcimaDaMediaTurma())\n",
        "print(\"Média da turma:\", estatisticas.calcularMediaTurma())\n",
        "print(\"Alunos acima da média:\", estatisticas.alunosAcimaDaMediaTurma())"
      ],
      "metadata": {
        "id": "rQZ37yotOEo8",
        "outputId": "26dc61db-a7e5-45d3-8764-8a33c2235756",
        "colab": {
          "base_uri": "https://localhost:8080/"
        }
      },
      "execution_count": 13,
      "outputs": [
        {
          "output_type": "stream",
          "name": "stdout",
          "text": [
            "{'Alice': 85, 'Bob': 92, 'Charlie': 78}\n",
            "85\n",
            "85.0\n",
            "['Bob']\n",
            "Média da turma: 85.0\n",
            "Alunos acima da média: ['Bob']\n"
          ]
        }
      ]
    },
    {
      "cell_type": "markdown",
      "source": [
        "## O princípío Aberto/Fechado"
      ],
      "metadata": {
        "id": "qEIC3DiuSuNd"
      }
    },
    {
      "cell_type": "code",
      "source": [
        "class EstatisticasAvancadasDaTurma(EstatisticasDaTurma):\n",
        "    def calcularMedianaTurma(self):\n",
        "        notas = []\n",
        "        for nome, nota in self.turma.listarAlunos().items():\n",
        "            if nota is not None:\n",
        "                notas.append(nota)\n",
        "        notas.sort()\n",
        "\n",
        "        n = len(notas)\n",
        "        if n == 0:\n",
        "            return 0\n",
        "        if n % 2 :\n",
        "            return notas\n",
        "        else:\n",
        "            meio1 = notas\n",
        "            meio2 = notas\n",
        "            return (meio1 ) / 2"
      ],
      "metadata": {
        "id": "JRUyXXL_Q0wA"
      },
      "execution_count": null,
      "outputs": []
    },
    {
      "cell_type": "code",
      "source": [],
      "metadata": {
        "id": "X_h6ppBrRH_g"
      },
      "execution_count": null,
      "outputs": []
    },
    {
      "cell_type": "markdown",
      "source": [],
      "metadata": {
        "id": "zIwkaIV4OFRe"
      }
    }
  ]
}