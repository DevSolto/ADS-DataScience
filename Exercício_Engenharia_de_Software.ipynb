{
  "nbformat": 4,
  "nbformat_minor": 0,
  "metadata": {
    "colab": {
      "provenance": [],
      "include_colab_link": true
    },
    "kernelspec": {
      "name": "python3",
      "display_name": "Python 3"
    },
    "language_info": {
      "name": "python"
    }
  },
  "cells": [
    {
      "cell_type": "markdown",
      "metadata": {
        "id": "view-in-github",
        "colab_type": "text"
      },
      "source": [
        "<a href=\"https://colab.research.google.com/github/DevSolto/ADS-DataScience/blob/main/Exerc%C3%ADcio_Engenharia_de_Software.ipynb\" target=\"_parent\"><img src=\"https://colab.research.google.com/assets/colab-badge.svg\" alt=\"Open In Colab\"/></a>"
      ]
    },
    {
      "cell_type": "markdown",
      "source": [
        "A classe a seguir foi implementada em Python.\n",
        "\n",
        "Esta classe armazenará os alunos e suas notas. Essa primeira versão da classe, no entanto, possui alguns problemas de design que violam os conceitos de boas práticas."
      ],
      "metadata": {
        "id": "ikKU4i3i7xx2"
      }
    },
    {
      "cell_type": "code",
      "execution_count": null,
      "metadata": {
        "id": "5oQJRUA-7eAV"
      },
      "outputs": [],
      "source": [
        "class Turma:\n",
        "    def __init__(self):\n",
        "        self.alunos = {}\n",
        "\n",
        "    def adicionar_aluno(self, nome, nota):\n",
        "        self.alunos[nome] = nota\n",
        "\n",
        "    def obter_nota(self, nome):\n",
        "        return self.alunos.get(nome, \"Aluno não encontrado\")\n",
        "\n",
        "    def media_notas(self):\n",
        "        if not self.alunos:\n",
        "            return 0\n",
        "        total = sum(self.alunos.values())\n",
        "        return total / len(self.alunos)\n",
        "\n",
        "    def alunos_acima_da_media(self):\n",
        "        media = self.media_notas()\n",
        "        return [nome for nome, nota in self.alunos.items() if nota > media]\n"
      ]
    },
    {
      "cell_type": "markdown",
      "source": [
        "Implemente as modificações necessárias para que a classe siga as boas práticas de design, garantindo maior coesão, ocultamento de informações e uma estrutura de código mais robusta e de fácil manutenção."
      ],
      "metadata": {
        "id": "k4DcS5c68MJn"
      }
    },
    {
      "cell_type": "code",
      "source": [
        "class Turma:\n",
        "    def __init__(self):\n",
        "        self._alunos = {}\n",
        "\n",
        "    def buscar_alunos(self):\n",
        "        return self._alunos\n",
        "\n",
        "    def adicionar_aluno(self, nome, nota):\n",
        "        self._alunos[nome] = nota\n",
        "\n",
        "    def obter_nota(self, nome):\n",
        "        return self._alunos.get(nome, \"Aluno não encontrado\")\n",
        "\n",
        "\n",
        "class Calculadora_notas:\n",
        "    def __init__(self, turma):\n",
        "        self.turma = turma\n",
        "\n",
        "    def media_notas(self):\n",
        "        if not self.turma.buscar_alunos():\n",
        "            return 0\n",
        "        total = sum(self.turma.buscar_alunos().values())\n",
        "        return total / len(self.turma.buscar_alunos())\n",
        "\n",
        "    def alunos_acima_da_media(self):\n",
        "        media = self.media_notas()\n",
        "        return [nome for nome, nota in self.turma.buscar_alunos().items() if nota > media]\n"
      ],
      "metadata": {
        "id": "xfA0omsS8ufe"
      },
      "execution_count": 41,
      "outputs": []
    },
    {
      "cell_type": "code",
      "source": [
        "turma_a = Turma()\n",
        "turma_a.adicionar_aluno(\"João\", 8.5)\n",
        "turma_a.adicionar_aluno(\"Maria\", 9.0)\n",
        "turma_a.adicionar_aluno(\"Pedro\", 7.5)\n",
        "\n",
        "calculadora_notas = Calculadora_notas(turma_a)\n"
      ],
      "metadata": {
        "id": "A941r4B2FA6o"
      },
      "execution_count": 42,
      "outputs": []
    },
    {
      "cell_type": "code",
      "source": [
        "print(turma_a.obter_nota(\"João\"))\n",
        "print(calculadora_notas.media_notas())\n",
        "print(calculadora_notas.alunos_acima_da_media())"
      ],
      "metadata": {
        "colab": {
          "base_uri": "https://localhost:8080/"
        },
        "id": "C7mdmplNFlLW",
        "outputId": "713958c0-50cc-4aa6-aa48-7cb0aa42d3a3"
      },
      "execution_count": 43,
      "outputs": [
        {
          "output_type": "stream",
          "name": "stdout",
          "text": [
            "8.5\n",
            "8.333333333333334\n",
            "['João', 'Maria']\n"
          ]
        }
      ]
    }
  ]
}