{
 "cells": [
  {
   "cell_type": "markdown",
   "metadata": {},
   "source": [
    "# Menu"
   ]
  },
  {
   "cell_type": "code",
   "execution_count": 6,
   "metadata": {},
   "outputs": [
    {
     "name": "stdout",
     "output_type": "stream",
     "text": [
      "1 - Criar turma.\n",
      "2 - Adicionar proffessor.\n",
      "3 - Adicionar aluno.\n",
      "4 - Adicionar nota.\n",
      "5 - Consultar nota.\n",
      "0 - Sair.\n",
      "Turma criada\n",
      "1 - Criar turma.\n",
      "2 - Adicionar proffessor.\n",
      "3 - Adicionar aluno.\n",
      "4 - Adicionar nota.\n",
      "5 - Consultar nota.\n",
      "0 - Sair.\n",
      "Professor adicionado\n",
      "1 - Criar turma.\n",
      "2 - Adicionar proffessor.\n",
      "3 - Adicionar aluno.\n",
      "4 - Adicionar nota.\n",
      "5 - Consultar nota.\n",
      "0 - Sair.\n",
      "Nota adicionada\n",
      "1 - Criar turma.\n",
      "2 - Adicionar proffessor.\n",
      "3 - Adicionar aluno.\n",
      "4 - Adicionar nota.\n",
      "5 - Consultar nota.\n",
      "0 - Sair.\n",
      "1 - Criar turma.\n",
      "2 - Adicionar proffessor.\n",
      "3 - Adicionar aluno.\n",
      "4 - Adicionar nota.\n",
      "5 - Consultar nota.\n",
      "0 - Sair.\n"
     ]
    }
   ],
   "source": [
    "opcao = \"\"\n",
    "\n",
    "while opcao != \"0\":\n",
    "    print(\"1 - Criar turma.\\n\"+\n",
    "          \"2 - Adicionar proffessor.\\n\"+\n",
    "          \"3 - Adicionar aluno.\\n\"+\n",
    "          \"4 - Adicionar nota.\\n\"+\n",
    "          \"5 - Consultar nota.\\n\"+\n",
    "          \"0 - Sair.\")\n",
    "    \n",
    "    opcao = input(\"Escolha uma opção:\")\n",
    "    match opcao:\n",
    "        case \"1\":\n",
    "            print(\"Turma criada\")\n",
    "\n",
    "        case \"2\":\n",
    "            print(\"Professor adicionado\")\n",
    "            \n",
    "        case \"3\":\n",
    "            print(\"Aluno adicionado\")\n",
    "            \n",
    "        case \"4\":\n",
    "            print(\"Nota adicionada\")\n",
    "            \n",
    "        case \"5\":\n",
    "            print(\"Nota consultada\")\n",
    "            \n",
    "        case \"0\":\n",
    "            print(\"Saindo\")\n",
    "            break"
   ]
  }
 ],
 "metadata": {
  "kernelspec": {
   "display_name": "Python 3",
   "language": "python",
   "name": "python3"
  },
  "language_info": {
   "codemirror_mode": {
    "name": "ipython",
    "version": 3
   },
   "file_extension": ".py",
   "mimetype": "text/x-python",
   "name": "python",
   "nbconvert_exporter": "python",
   "pygments_lexer": "ipython3",
   "version": "3.12.1"
  }
 },
 "nbformat": 4,
 "nbformat_minor": 2
}
