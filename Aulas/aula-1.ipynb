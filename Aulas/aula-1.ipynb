{
 "cells": [
  {
   "cell_type": "markdown",
   "metadata": {},
   "source": [
    "# Estruturas de dados"
   ]
  },
  {
   "cell_type": "markdown",
   "metadata": {},
   "source": [
    " ## Listas/Dicionário"
   ]
  },
  {
   "cell_type": "markdown",
   "metadata": {},
   "source": [
    "### Média de uma lista"
   ]
  },
  {
   "cell_type": "code",
   "execution_count": 17,
   "metadata": {},
   "outputs": [],
   "source": [
    "notas = [7,7,5,3,8,9,6]"
   ]
  },
  {
   "cell_type": "code",
   "execution_count": 18,
   "metadata": {},
   "outputs": [],
   "source": [
    "total = 0\n",
    "for nota in notas:\n",
    "    total += nota\n",
    "media = total/len(notas)    "
   ]
  },
  {
   "cell_type": "code",
   "execution_count": 21,
   "metadata": {},
   "outputs": [
    {
     "name": "stdout",
     "output_type": "stream",
     "text": [
      "A media é 6.43\n"
     ]
    }
   ],
   "source": [
    "print(f\"A media é {media:.2f}\")"
   ]
  },
  {
   "cell_type": "markdown",
   "metadata": {},
   "source": [
    "### Maior e menor palavra"
   ]
  },
  {
   "cell_type": "code",
   "execution_count": 30,
   "metadata": {},
   "outputs": [],
   "source": [
    "palavras = [\"python\", \"asimov\", \"código\", \"web\", \"programação\"]\n",
    "\n",
    "maior = palavras[0]\n",
    "menor = palavras[0]"
   ]
  },
  {
   "cell_type": "code",
   "execution_count": 31,
   "metadata": {},
   "outputs": [
    {
     "name": "stdout",
     "output_type": "stream",
     "text": [
      "Maior: programação\n",
      "Menor: web\n"
     ]
    }
   ],
   "source": [
    "for i in range(1, len(palavras)):\n",
    "    palavra = palavras[i]\n",
    "    if (len(palavra) < len(menor)) : menor = palavra\n",
    "    elif (len(palavra) > len(maior)): maior = palavra\n",
    "    \n",
    "print(f\"Maior: {maior}\")\n",
    "print(f\"Menor: {menor}\")"
   ]
  },
  {
   "cell_type": "markdown",
   "metadata": {},
   "source": [
    "### Resultado da pesquisa"
   ]
  },
  {
   "cell_type": "code",
   "execution_count": 40,
   "metadata": {},
   "outputs": [],
   "source": [
    "votos = [\"A\", \"B\", \"A\", \"C\", \"C\", \"A\", \"C\", \"C\", \"B\", \"A\"]\n",
    "\n",
    "resultado = [\n",
    "    (\"A\",1),\n",
    "    (\"B\",2),\n",
    "    (\"C\",3)\n",
    "]\n",
    "resultado = dict(resultado)"
   ]
  },
  {
   "cell_type": "code",
   "execution_count": 42,
   "metadata": {},
   "outputs": [
    {
     "data": {
      "text/plain": [
       "{'A': 5, 'B': 4, 'C': 7}"
      ]
     },
     "execution_count": 42,
     "metadata": {},
     "output_type": "execute_result"
    }
   ],
   "source": [
    "for voto in votos:\n",
    "    resultado[voto] += 1\n",
    "\n",
    "resultado\n"
   ]
  }
 ],
 "metadata": {
  "kernelspec": {
   "display_name": "Python 3",
   "language": "python",
   "name": "python3"
  },
  "language_info": {
   "codemirror_mode": {
    "name": "ipython",
    "version": 3
   },
   "file_extension": ".py",
   "mimetype": "text/x-python",
   "name": "python",
   "nbconvert_exporter": "python",
   "pygments_lexer": "ipython3",
   "version": "3.12.1"
  }
 },
 "nbformat": 4,
 "nbformat_minor": 2
}
